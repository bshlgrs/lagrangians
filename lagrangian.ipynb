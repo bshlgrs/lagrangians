{
 "cells": [
  {
   "cell_type": "code",
   "execution_count": 4,
   "metadata": {
    "collapsed": false,
    "deletable": true,
    "editable": true
   },
   "outputs": [
    {
     "ename": "NameError",
     "evalue": "name 'sympy' is not defined",
     "output_type": "error",
     "traceback": [
      "\u001b[0;31m---------------------------------------------------------------------------\u001b[0m",
      "\u001b[0;31mNameError\u001b[0m                                 Traceback (most recent call last)",
      "\u001b[0;32m<ipython-input-4-1573d05c509b>\u001b[0m in \u001b[0;36m<module>\u001b[0;34m()\u001b[0m\n\u001b[1;32m     11\u001b[0m \u001b[0mL\u001b[0m \u001b[0;34m=\u001b[0m \u001b[0mT\u001b[0m \u001b[0;34m-\u001b[0m \u001b[0mV\u001b[0m\u001b[0;34m\u001b[0m\u001b[0m\n\u001b[1;32m     12\u001b[0m \u001b[0;34m\u001b[0m\u001b[0m\n\u001b[0;32m---> 13\u001b[0;31m \u001b[0mddx_dtt\u001b[0m \u001b[0;34m=\u001b[0m \u001b[0msimplify\u001b[0m\u001b[0;34m(\u001b[0m\u001b[0msympy\u001b[0m\u001b[0;34m.\u001b[0m\u001b[0mdiff\u001b[0m\u001b[0;34m(\u001b[0m\u001b[0mL\u001b[0m\u001b[0;34m,\u001b[0m \u001b[0mx\u001b[0m\u001b[0;34m)\u001b[0m\u001b[0;34m)\u001b[0m\u001b[0;34m\u001b[0m\u001b[0m\n\u001b[0m",
      "\u001b[0;31mNameError\u001b[0m: name 'sympy' is not defined"
     ]
    }
   ],
   "source": [
    "from sympy import *\n",
    "x = Symbol(\"x\")\n",
    "m = 1\n",
    "y = x**2\n",
    "dx_dt = Symbol(\"dx_dt\")\n",
    "dy_dt = diff(y, x) * dx_dt\n",
    "v = simplify((dx_dt ** 2 + dy_dt ** 2) ** 0.5)\n",
    "\n",
    "T = simplify(0.5 * m * v ** 2)\n",
    "V = m * y\n",
    "L = T - V\n",
    "\n",
    "ddx_dtt = simplify(sympy.diff(L, x))\n"
   ]
  },
  {
   "cell_type": "code",
   "execution_count": 80,
   "metadata": {
    "collapsed": false,
    "deletable": true,
    "editable": true
   },
   "outputs": [],
   "source": [
    "# Pendulum on movable support\n",
    "\n",
    "m = Symbol('m')\n",
    "l = Symbol('l')\n",
    "M = Symbol('M')\n",
    "g = Symbol('g')\n",
    "\n",
    "x = Symbol('x')\n",
    "theta = Symbol('theta')\n",
    "x_dot = Symbol('x_dot')\n",
    "theta_dot = Symbol('theta_dot')\n",
    "\n",
    "x_pendulum = x + l * sin(theta)\n",
    "y_pendulum = - l * cos(theta)\n",
    "\n",
    "x_pendulum_dot = diff(x_pendulum, x) * x_dot + diff(x_pendulum, theta) * theta_dot\n",
    "y_pendulum_dot = diff(y_pendulum, x) * x_dot + diff(y_pendulum, theta) * theta_dot\n",
    "\n",
    "V = y_pendulum * m * g\n",
    "T = 0.5 * M * x_dot ** 2 + 0.5 * m * (x_pendulum_dot ** 2 + y_pendulum_dot ** 2)\n",
    "\n",
    "L = T - V\n",
    "\n",
    "x_dot_dot = simplify(diff(L, x))\n",
    "theta_dot_dot = simplify(diff(L, theta))"
   ]
  },
  {
   "cell_type": "code",
   "execution_count": 81,
   "metadata": {
    "collapsed": false,
    "deletable": true,
    "editable": true
   },
   "outputs": [
    {
     "data": {
      "text/plain": [
       "[-l*m*(g + theta_dot*x_dot)*sin(theta)]"
      ]
     },
     "execution_count": 81,
     "metadata": {},
     "output_type": "execute_result"
    }
   ],
   "source": [
    "[theta_dot_dot]"
   ]
  },
  {
   "cell_type": "code",
   "execution_count": 50,
   "metadata": {
    "collapsed": false,
    "deletable": true,
    "editable": true
   },
   "outputs": [
    {
     "ename": "SyntaxError",
     "evalue": "invalid syntax (<ipython-input-50-cb403136b407>, line 30)",
     "output_type": "error",
     "traceback": [
      "\u001b[0;36m  File \u001b[0;32m\"<ipython-input-50-cb403136b407>\"\u001b[0;36m, line \u001b[0;32m30\u001b[0m\n\u001b[0;31m    'gravity': False,\u001b[0m\n\u001b[0m            ^\u001b[0m\n\u001b[0;31mSyntaxError\u001b[0m\u001b[0;31m:\u001b[0m invalid syntax\n"
     ]
    }
   ],
   "source": [
    "double_pendulum = {\n",
    "    'particles': [\n",
    "        { 'name': 'A', \n",
    "          'mass': 1,\n",
    "          'position': { 'type': 'pole', 'origin': {'type': 'fixed', 'position': (0, 0) }, 'length': 1 } \n",
    "        },\n",
    "        { 'name': 'B',\n",
    "          'mass': 1, \n",
    "          'position': { 'type': 'pole', 'origin': {'type': 'particle', 'particle': 'A' }, 'length': 1 } \n",
    "        }\n",
    "    ],\n",
    "    'gravity': True\n",
    "}\n",
    "\n",
    "pendulum_on_moving_support = {\n",
    "    'particles': [\n",
    "        { 'name': 'A',\n",
    "          'position': { 'type': 'constrained', 'x': 'a', 'y': '0' } },\n",
    "        { 'name': 'B',\n",
    "          'position': { 'type': 'pole', 'origin': {'type': 'particle', 'particle': 'A' }, 'length': 1 } },\n",
    "    ],\n",
    "    'gravity': True\n",
    "}\n",
    "\n",
    "double_parabola = {\n",
    "    'particles': [\n",
    "        { name: 'A', position: { 'type': 'constrained', 'x': '-a**2 - 1', 'y': 'a' } },\n",
    "        { name: 'B', position: { 'type': 'constrained', 'x': 'a**2 + 1', 'y': 'a' } },\n",
    "    ]\n",
    "    'gravity': False,\n",
    "    'springs': [\n",
    "        { 'from': 'A', 'to': 'B', 'k': 1, 'length': 2 }\n",
    "    ]\n",
    "}\n",
    "\n",
    "# to add later: charge, springs to fixed points"
   ]
  },
  {
   "cell_type": "code",
   "execution_count": 75,
   "metadata": {
    "collapsed": true
   },
   "outputs": [],
   "source": [
    "from sympy.parsing.sympy_parser import parse_expr\n",
    "                                        \n",
    "class Particle:\n",
    "    def __init__(self, pojo):\n",
    "        self.name = pojo[\"name\"]\n",
    "        self.position = pojo[\"position\"]\n",
    "        self.mass = pojo['mass']\n",
    "        self.position_type = pojo[\"position\"][\"type\"]\n",
    "        self.parameters = self.build_parameters()\n",
    "    \n",
    "    def position_parameters(self):\n",
    "        if self.position_type == 'free':\n",
    "            return { 'x': Symbol(self.name + \"_x\"), 'y': Symbol(self.name + \"_y\") }\n",
    "        elif self.position_type == 'constrained':\n",
    "            return { 'a': Symbol(self.name + \"_a\") }\n",
    "        elif self.position_type == 'pole':\n",
    "            return { 'theta': Symbol(self.name + \"_theta\") }\n",
    "    \n",
    "    def build_parameters(self):\n",
    "        params = self.position_parameters()\n",
    "        return {**params, **{ x + \"_dot\": Symbol(y.name + \"_dot\") for (x, y) in params.items() }}\n",
    "    \n",
    "    def cartesian_position(self, system):\n",
    "        if self.position_type == 'free':\n",
    "            return [self.parameters['x'], self.parameters['y']]\n",
    "        if self.position_type == \"constrained\":\n",
    "            x = parse_expr(self.position['x']).subs('a', self.parameters['a'])\n",
    "            y = parse_expr(self.position['y']).subs('a', self.parameters['a'])\n",
    "            return [x, y]\n",
    "        if self.position_type == 'pole':\n",
    "            if self.position['origin']['type'] == 'fixed':\n",
    "                origin_x, origin_y = self.position['origin']['position']\n",
    "            elif self.position['origin']['type'] == 'particle':\n",
    "                origin_x, origin_y = system.cartesian_position(self.position['origin']['particle'])\n",
    "                \n",
    "            theta = self.parameters['theta']\n",
    "            length = self.position['length']\n",
    "            x = sin(theta) * length + origin_x\n",
    "            y = cos(theta) * length + origin_y\n",
    "            return [x, y]\n",
    "        \n",
    "    def cartesian_velocity(self, system):\n",
    "        if self.position_type == 'free':\n",
    "            return [self.parameters['x_dot'], self.parameters['y_dot']]\n",
    "        if self.position_type == \"constrained\":\n",
    "            x = parse_expr(self.position['x']).subs('a', self.parameters['a'])\n",
    "            a = self.parameters['a']\n",
    "            dx_da = diff(x, a)\n",
    "            x_dot = dx_da * self.parameters['a_dot']\n",
    "            \n",
    "            y = parse_expr(self.position['y']).subs('a', self.parameters['a'])\n",
    "            dy_da = diff(y, a)\n",
    "            y_dot = dy_da * self.parameters['a_dot']\n",
    "            \n",
    "            return [x_dot, y_dot]\n",
    "        if self.position_type == 'pole':\n",
    "            if self.position['origin']['type'] == 'fixed':\n",
    "                origin_x_dot, origin_y_dot = 0\n",
    "            elif self.position['origin']['type'] == 'particle':\n",
    "                origin_x_dot, origin_y_dot = system.cartesian_velocity(self.position['origin']['particle'])\n",
    "                \n",
    "            theta = self.parameters['theta']\n",
    "            length = self.position['length']\n",
    "            x_dot = cos(theta_dot) * length + origin_x_dot\n",
    "            y_dot = cos(theta_dot) * length + origin_y_dot\n",
    "            return [x_dot, y_dot]\n",
    "        \n",
    "    def potential_energy(self, system):\n",
    "        PE = 0\n",
    "        if system.gravity:\n",
    "            PE += self.mass * 9.8 * self.cartesian_position(system)[1]\n",
    "        return PE\n",
    "        \n",
    "    def kinetic_energy(self, system):\n",
    "        return 0.5 * self.mass * sum(z**2 for z in self.cartesian_velocity(system))\n",
    "    \n",
    "    \n",
    "class System:\n",
    "    def __init__(self, pojo):\n",
    "        self.particles = { x['name']: Particle(x) for x in pojo['particles'] }\n",
    "        self.gravity = pojo['gravity']\n",
    "    \n",
    "    def cartesian_position(name):\n",
    "        self.particles[name].cartesian_position(self)\n",
    "        \n",
    "    def kinetic_energy(self):\n",
    "        return sum(particle.kinetic_energy(self) for particle in self.particles.values())\n",
    "    \n",
    "    def potential_energy(self):\n",
    "        return sum(particle.potential_energy(self) for particle in self.particles.values())\n",
    "    \n",
    "    def lagrangian(self):\n",
    "        return self.kinetic_energy() - self.potential_energy()\n",
    "\n",
    "    def equations_of_motion(self):\n",
    "        lagrangian = self.lagrangian()\n",
    "        return {\n",
    "            param : diff(lagrangian, param) \n",
    "                for param in particle.position_parameters().values()\n",
    "                for particle in self.particles.values()\n",
    "        }\n",
    "    \n",
    "        \n",
    "    \n",
    "# def equations_of_motion(system):\n"
   ]
  },
  {
   "cell_type": "code",
   "execution_count": 47,
   "metadata": {
    "collapsed": false
   },
   "outputs": [],
   "source": [
    "particle1_pojo = { 'name': 'A', \n",
    "          'mass': 1,\n",
    "          'position': { 'type': 'constrained', 'x': '-a**2 - 1', 'y': 'a' }\n",
    "        }\n",
    "\n",
    "particle = Particle(particle1_pojo)"
   ]
  },
  {
   "cell_type": "code",
   "execution_count": 76,
   "metadata": {
    "collapsed": false
   },
   "outputs": [
    {
     "data": {
      "text/plain": [
       "{A_a: -9.80000000000000}"
      ]
     },
     "execution_count": 76,
     "metadata": {},
     "output_type": "execute_result"
    }
   ],
   "source": [
    "simple_system_pojo = {\n",
    "    'particles': [\n",
    "        {\n",
    "            'name': 'A',\n",
    "            'mass': 1,\n",
    "            'position': { 'type': 'constrained', 'x': 'a', 'y': 'a' }\n",
    "        }\n",
    "    ],\n",
    "    'gravity': True\n",
    "}\n",
    "\n",
    "simple_system = System(simple_system_pojo)\n",
    "simple_system.equations_of_motion()"
   ]
  },
  {
   "cell_type": "code",
   "execution_count": null,
   "metadata": {
    "collapsed": true
   },
   "outputs": [],
   "source": [
    "\n"
   ]
  }
 ],
 "metadata": {
  "kernelspec": {
   "display_name": "Python 3",
   "language": "python",
   "name": "python3"
  },
  "language_info": {
   "codemirror_mode": {
    "name": "ipython",
    "version": 3
   },
   "file_extension": ".py",
   "mimetype": "text/x-python",
   "name": "python",
   "nbconvert_exporter": "python",
   "pygments_lexer": "ipython3",
   "version": "3.6.1"
  }
 },
 "nbformat": 4,
 "nbformat_minor": 2
}
